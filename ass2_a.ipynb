{
 "cells": [
  {
   "cell_type": "code",
   "execution_count": 126,
   "metadata": {},
   "outputs": [],
   "source": [
    "import pandas as pd\n",
    "import re\n",
    "import json\n",
    "import io\n",
    "\n",
    "#以下code将所给tweets.json文件进行了初步清洗，但是并未得出与给出范例相似的文件形式。\n",
    "def cleanJSON(path, cleanItem):\n",
    "    with open(data_path,encoding='UTF-8') as data:\n",
    "        clean = data.read()\n",
    "    list1 = []\n",
    "    for item in cleanItem:\n",
    "        clean = clean.replace(item,\"\")\n",
    "    digit = re.compile(\"\\n\\n\\d+\")\n",
    "    clean = re.sub(digit,\",\",clean)\n",
    "\n",
    "    clean = \"[\"+clean+\"]\"\n",
    "\n",
    "    return clean\n",
    "\n",
    "data_path = '/Users/yanyu/Desktop/comp8210/assignment/ass2/10000_tweets_1.json'\n",
    "arr = [\"/* 10000 Tweets */\",\"/* 1\",\"/* \",\" */\",\"(\",\")\",\"\\n\\n\\n\",\"ObjectId\",\"NumberLong\"]\n",
    "\n",
    "cleanedJson = cleanJSON(data_path,arr)\n",
    "t1 = json.loads(cleanedJson)\n",
    "t= json.dumps(t1)\n",
    "\n",
    "tweet = open(\"cleaned_tweets.json\",'w')\n",
    "tweet.write(cleanedJson)\n",
    "tweet.close\n",
    "\n",
    "with open('cleaned_tweets.json',encoding='UTF-8') as fw:\n",
    "    data = json.load(fw)\n",
    "    keylist = []\n",
    "    for k in data:\n",
    "        k.pop(\"_id\")\n",
    "        keylist.append(k)\n",
    "\n",
    "with open(r'cleaned_tweets.json', \"w\", encoding=\"UTF-8\") as e:\n",
    "    json_new_data = json.dumps(keylist, ensure_ascii=False, indent=4)\n",
    "    e.write(json_new_data)"
   ]
  },
  {
   "cell_type": "code",
   "execution_count": null,
   "metadata": {},
   "outputs": [],
   "source": []
  },
  {
   "cell_type": "code",
   "execution_count": null,
   "metadata": {},
   "outputs": [],
   "source": []
  },
  {
   "cell_type": "code",
   "execution_count": null,
   "metadata": {},
   "outputs": [],
   "source": []
  },
  {
   "cell_type": "code",
   "execution_count": null,
   "metadata": {},
   "outputs": [],
   "source": []
  },
  {
   "cell_type": "code",
   "execution_count": null,
   "metadata": {},
   "outputs": [],
   "source": []
  },
  {
   "cell_type": "code",
   "execution_count": null,
   "metadata": {},
   "outputs": [],
   "source": []
  },
  {
   "cell_type": "code",
   "execution_count": null,
   "metadata": {},
   "outputs": [],
   "source": []
  },
  {
   "cell_type": "code",
   "execution_count": null,
   "metadata": {},
   "outputs": [],
   "source": []
  },
  {
   "cell_type": "code",
   "execution_count": null,
   "metadata": {},
   "outputs": [],
   "source": []
  }
 ],
 "metadata": {
  "kernelspec": {
   "display_name": "Python 3",
   "language": "python",
   "name": "python3"
  },
  "language_info": {
   "codemirror_mode": {
    "name": "ipython",
    "version": 3
   },
   "file_extension": ".py",
   "mimetype": "text/x-python",
   "name": "python",
   "nbconvert_exporter": "python",
   "pygments_lexer": "ipython3",
   "version": "3.8.0"
  }
 },
 "nbformat": 4,
 "nbformat_minor": 4
}
