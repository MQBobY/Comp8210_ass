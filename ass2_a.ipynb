{
 "cells": [
  {
   "cell_type": "code",
   "execution_count": 1,
   "metadata": {},
   "outputs": [],
   "source": [
    "## function to do the json primary clean \n",
    "def cleanJSON(path, cleanItem):\n",
    "    with open(data_path,encoding='UTF-8') as data:\n",
    "        clean = data.read()\n",
    "    list1 = []\n",
    "    for item in cleanItem:\n",
    "        clean = clean.replace(item,\"\")\n",
    "    digit = re.compile(\"\\n\\n\\d+\")\n",
    "    clean = re.sub(digit,\",\",clean)\n",
    "\n",
    "    clean = \"[\"+clean+\"]\"\n",
    "\n",
    "    return clean"
   ]
  },
  {
   "cell_type": "code",
   "execution_count": 2,
   "metadata": {},
   "outputs": [
    {
     "data": {
      "text/plain": [
       "<function TextIOWrapper.close()>"
      ]
     },
     "execution_count": 2,
     "metadata": {},
     "output_type": "execute_result"
    }
   ],
   "source": [
    "import pandas as pd\n",
    "import re\n",
    "import json\n",
    "import io\n",
    "\n",
    "\n",
    "## do the primary clean\n",
    "data_path = '/Users/yanyu/Desktop/comp8210/assignment/ass2/10000_tweets_1.json'\n",
    "arr = [\"/* 10000 Tweets */\",\"/* 1\",\"/* \",\" */\",\"(\",\")\",\"\\n\\n\\n\",\"ObjectId\",\"NumberLong\"]\n",
    "\n",
    "cleanedJson = cleanJSON(data_path,arr)\n",
    "t1 = json.loads(cleanedJson)\n",
    "t= json.dumps(t1)\n",
    "\n",
    "tweet = open(\"cleaned_tweets.json\",'w')\n",
    "tweet.write(t)\n",
    "tweet.close"
   ]
  },
  {
   "cell_type": "code",
   "execution_count": 3,
   "metadata": {},
   "outputs": [],
   "source": [
    "## clean the primary key '_id'\n",
    "with open('cleaned_tweets.json',encoding='UTF-8') as fw:\n",
    "    data = json.load(fw)\n",
    "    keylist = []\n",
    "    for k in data:\n",
    "        k.pop(\"_id\")\n",
    "        keylist.append(k)\n",
    "\n",
    "with open(r'cleaned_tweets.json', \"w\", encoding=\"UTF-8\") as e:\n",
    "    json_new_data = json.dumps(keylist, ensure_ascii=False, indent=4)\n",
    "    e.write(json_new_data)"
   ]
  },
  {
   "cell_type": "code",
   "execution_count": 4,
   "metadata": {},
   "outputs": [],
   "source": [
    "## clean embedding keys 'twitter_entities:media:id' and 'twitter_extended_entities:media:id'\n",
    "with open('cleaned_tweets.json',encoding='UTF-8') as jsonFile:\n",
    "    #data = jsonFile.read()\n",
    "    data = json.load(jsonFile)\n",
    "jsonFile.close()\n",
    "\n",
    "for i in range(len(data)):\n",
    "    if \"media\" in data[i]['twitter_entities']:\n",
    "        if 'id' in data[i]['twitter_entities']['media'][0]:\n",
    "            del data[i]['twitter_entities']['media'][0]['id']\n",
    "for j in range(len(data)):\n",
    "    if \"twitter_extended_entities\" in data[j]:\n",
    "        if 'media' in data[j]['twitter_extended_entities']:\n",
    "            if 'id' in data[j]['twitter_extended_entities']['media'][0]:\n",
    "                del data[j]['twitter_extended_entities']['media'][0]['id']\n",
    "\n",
    "with open('cleaned_tweets.json','w',encoding='UTF-8') as file:\n",
    "    json_new_data = json.dumps(data,ensure_ascii=False, indent=4)\n",
    "    file.write(json_new_data)"
   ]
  }
 ],
 "metadata": {
  "kernelspec": {
   "display_name": "Python 3",
   "language": "python",
   "name": "python3"
  },
  "language_info": {
   "codemirror_mode": {
    "name": "ipython",
    "version": 3
   },
   "file_extension": ".py",
   "mimetype": "text/x-python",
   "name": "python",
   "nbconvert_exporter": "python",
   "pygments_lexer": "ipython3",
   "version": "3.8.0"
  }
 },
 "nbformat": 4,
 "nbformat_minor": 4
}
